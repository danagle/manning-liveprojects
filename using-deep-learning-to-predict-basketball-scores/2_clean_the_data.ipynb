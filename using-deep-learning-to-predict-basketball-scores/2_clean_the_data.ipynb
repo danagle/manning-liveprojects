{
  "nbformat": 4,
  "nbformat_minor": 0,
  "metadata": {
    "colab": {
      "name": "2-clean-the-data.ipynb",
      "provenance": [],
      "collapsed_sections": []
    },
    "kernelspec": {
      "name": "python3",
      "display_name": "Python 3"
    }
  },
  "cells": [
    {
      "cell_type": "code",
      "metadata": {
        "id": "T-jkt4YcvD8s",
        "colab_type": "code",
        "colab": {}
      },
      "source": [
        "import pandas as pd"
      ],
      "execution_count": 2,
      "outputs": []
    },
    {
      "cell_type": "code",
      "metadata": {
        "id": "JyeDRNQJwUyK",
        "colab_type": "code",
        "colab": {}
      },
      "source": [
        "# A dictionary used for loading the dataset files into dataframes\n",
        "DATAFRAMES = {}"
      ],
      "execution_count": 3,
      "outputs": []
    },
    {
      "cell_type": "code",
      "metadata": {
        "id": "GXsRXZRXwXIT",
        "colab_type": "code",
        "colab": {
          "resources": {
            "http://localhost:8080/nbextensions/google.colab/files.js": {
              "data": "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",
              "ok": true,
              "headers": [
                [
                  "content-type",
                  "application/javascript"
                ]
              ],
              "status": 200,
              "status_text": "OK"
            }
          },
          "base_uri": "https://localhost:8080/",
          "height": 109
        },
        "outputId": "06f43b51-8084-46c8-eb10-4eff4b31264b"
      },
      "source": [
        "## RUNS ON GOOGLE COLABS\n",
        "## ONLY REQUIRED TO LOAD FILES FROM LOCAL HARD DRIVE\n",
        "\n",
        "import io\n",
        "from google.colab import files\n",
        "\n",
        "def colab_import_local_data():\n",
        "  \"\"\"\n",
        "  Populates DATAFRAMES dictionary with dataframes created from uploaded CSV\n",
        "  files. The dictionary can be indexed using the filename.\n",
        "\n",
        "  NOTE :: Existing content will be overwritten if the filename is the same\n",
        "  as that of a previously imported file.\n",
        "  \"\"\"\n",
        "  uploaded = files.upload()\n",
        "  for k in uploaded.keys():\n",
        "    DATAFRAMES[k] = pd.read_csv(io.BytesIO(uploaded[k]), header=None)\n",
        "\n",
        "colab_import_local_data()"
      ],
      "execution_count": 4,
      "outputs": [
        {
          "output_type": "display_data",
          "data": {
            "text/html": [
              "\n",
              "     <input type=\"file\" id=\"files-93a954aa-11cd-47ce-8bca-ffb95515ee03\" name=\"files[]\" multiple disabled\n",
              "        style=\"border:none\" />\n",
              "     <output id=\"result-93a954aa-11cd-47ce-8bca-ffb95515ee03\">\n",
              "      Upload widget is only available when the cell has been executed in the\n",
              "      current browser session. Please rerun this cell to enable.\n",
              "      </output>\n",
              "      <script src=\"/nbextensions/google.colab/files.js\"></script> "
            ],
            "text/plain": [
              "<IPython.core.display.HTML object>"
            ]
          },
          "metadata": {
            "tags": []
          }
        },
        {
          "output_type": "stream",
          "text": [
            "Saving Games.csv to Games.csv\n",
            "Saving Teams.csv to Teams.csv\n"
          ],
          "name": "stdout"
        }
      ]
    },
    {
      "cell_type": "code",
      "metadata": {
        "id": "O_Dw3tqCw1D0",
        "colab_type": "code",
        "colab": {
          "base_uri": "https://localhost:8080/",
          "height": 35
        },
        "outputId": "159f6896-6445-4176-d482-d26967996f3a"
      },
      "source": [
        "DATAFRAMES.keys()"
      ],
      "execution_count": 5,
      "outputs": [
        {
          "output_type": "execute_result",
          "data": {
            "text/plain": [
              "dict_keys(['Games.csv', 'Teams.csv'])"
            ]
          },
          "metadata": {
            "tags": []
          },
          "execution_count": 5
        }
      ]
    },
    {
      "cell_type": "code",
      "metadata": {
        "id": "NPNxE5jxxIHq",
        "colab_type": "code",
        "colab": {
          "base_uri": "https://localhost:8080/",
          "height": 90
        },
        "outputId": "f54c0f70-5e0b-40f3-b363-250e015099c9"
      },
      "source": [
        "for f in DATAFRAMES:\n",
        "  print(f)\n",
        "  print(DATAFRAMES[f].columns)\n",
        "\n",
        "#DATAFRAMES[\"Games.csv\"].columns"
      ],
      "execution_count": 6,
      "outputs": [
        {
          "output_type": "stream",
          "text": [
            "Games.csv\n",
            "Int64Index([0, 1, 2, 3, 4], dtype='int64')\n",
            "Teams.csv\n",
            "Int64Index([0, 1], dtype='int64')\n"
          ],
          "name": "stdout"
        }
      ]
    },
    {
      "cell_type": "code",
      "metadata": {
        "id": "ZD1NrFYBzBsm",
        "colab_type": "code",
        "colab": {
          "base_uri": "https://localhost:8080/",
          "height": 235
        },
        "outputId": "5e6dd12d-85ff-4693-d522-c4597564d701"
      },
      "source": [
        "DATAFRAMES[\"Games.csv\"].columns = [\"GameDate\", \"HomeTeam\", \"HomeScore\", \"AwayTeam\", \"AwayScore\"]\n",
        "DATAFRAMES[\"Teams.csv\"].columns = [\"Conference\", \"Team\"]\n",
        "\n",
        "print(DATAFRAMES[\"Games.csv\"].head(5))\n",
        "\n",
        "print(DATAFRAMES[\"Teams.csv\"].head(5))"
      ],
      "execution_count": 7,
      "outputs": [
        {
          "output_type": "stream",
          "text": [
            "     GameDate       HomeTeam  HomeScore     AwayTeam  AwayScore\n",
            "0  2015-11-13         Hawaii         87  Montana St.         76\n",
            "1  2015-11-13  Eastern Mich.         70      Vermont         50\n",
            "2  2015-11-13       Columbia        107         Kean         62\n",
            "3  2015-11-13     La.-Monroe         88      McMurry         43\n",
            "4  2015-11-13           Yale         70    Fairfield         57\n",
            "     Conference         Team\n",
            "0  America East      Vermont\n",
            "1  America East  Stony Brook\n",
            "2  America East         UMBC\n",
            "3  America East     Hartford\n",
            "4  America East       Albany\n"
          ],
          "name": "stdout"
        }
      ]
    },
    {
      "cell_type": "code",
      "metadata": {
        "id": "L8B3vctiz0sL",
        "colab_type": "code",
        "colab": {
          "base_uri": "https://localhost:8080/",
          "height": 35
        },
        "outputId": "041f86fa-ffc1-462b-99ee-b6474da808ab"
      },
      "source": [
        "df_t = DATAFRAMES[\"Teams.csv\"]\n",
        "df_g = DATAFRAMES[\"Games.csv\"]\n",
        "\n",
        "print(\"Conference Teams: {}; Home Teams: {}; Away Teams: {}\".format(df_t.Team.nunique(), df_g.HomeTeam.nunique(), df_g.AwayTeam.nunique()))"
      ],
      "execution_count": 8,
      "outputs": [
        {
          "output_type": "stream",
          "text": [
            "Conference Teams: 353; Home Teams: 452; Away Teams: 1022\n"
          ],
          "name": "stdout"
        }
      ]
    },
    {
      "cell_type": "markdown",
      "metadata": {
        "id": "1sKseOsF1HML",
        "colab_type": "text"
      },
      "source": [
        "Clearly there is some clean up work to be done here. There are 353 unique team names in the Teams dataframe and this should be reflected in the Games dataframe."
      ]
    },
    {
      "cell_type": "code",
      "metadata": {
        "id": "wpcXSGGE11Ji",
        "colab_type": "code",
        "colab": {}
      },
      "source": [
        "teams = set(df_t.Team.unique())\n",
        "h_teams = set(df_g.HomeTeam.unique())\n",
        "a_teams = set(df_g.AwayTeam.unique())"
      ],
      "execution_count": 9,
      "outputs": []
    },
    {
      "cell_type": "code",
      "metadata": {
        "id": "Q0dRCo-K3hhp",
        "colab_type": "code",
        "colab": {
          "base_uri": "https://localhost:8080/",
          "height": 55
        },
        "outputId": "56139f45-cf41-4cc8-afbb-2a13f84a2308"
      },
      "source": [
        "print(h_teams - teams)"
      ],
      "execution_count": 10,
      "outputs": [
        {
          "output_type": "stream",
          "text": [
            "{'Cal St. Fullerton', 'Loyola Maryland', 'Southern U.', 'William &amp; Mary', 'St. Francis (NY)', 'UT Arlington ', 'Southeast Mo. St.', 'Savannah St.', 'UC Santa Barb.', 'Southeastern La.', 'Eastern Ill.', 'Eastern Mich.', 'Bryant', 'St. Francis (B&#039;klyn)', 'Chicago St.', 'SIU Edwardsville', 'St. John&#039;s (NY)', 'North Dakota St.', 'South Carolina St.', 'East Tenn. St.', 'Northern Ky.', 'Fresno St.', 'S. Carolina St.', 'Western Caro.', 'UNCG', 'Ave Maria', 'McNeese ', 'Jacksonville St.', 'Army West Point', 'Omaha', 'Indiana St.', 'Prairie View', 'Murray St.', 'McNeese St.', 'VCU', 'Mt. St. Mary&#039;s', 'Mid-Atlantic Christ.', 'Cleveland St.', 'Appalachian St.', 'Cal St. Northridge', 'Miami (Ohio)', 'Alabama A&amp;M', 'Penn St.', 'IPFW', 'Kansas St.', 'Coastal Caro.', 'Mississippi St.', 'N&#039;western St.', 'Coppin St.', 'St. Mary&#039;s (Cal.)', 'Mississippi Val.', 'Michigan St.', 'Tennessee St.', 'FGCU', 'Alabama St.', 'N.C. Central', 'A&amp;M-Corpus Chris', 'Southern Univ.', 'Saint Joseph&#039;s', 'Arkansas St.', 'Portland St.', 'SIUE', 'Boston U.', 'UALR', 'Ball St.', 'Ark.-Pine Bluff', 'St. Bonaventure', 'St. Peter&#039;s', 'Missouri St.', 'St. Francis (PA)', 'Sacramento St.', 'Colorado St.', 'Idaho St.', 'CSUN', 'UMES', 'Texas A&amp;M', 'SFA', 'Wichita St.', 'Wright St.', 'Kent St.', 'Oregon St.', 'Penn', 'LMU', 'Jackson St.', 'Northern Ill.', 'Loyola Chicago', 'UIC', 'University of the Southwest', 'S.C. Upstate', 'Loyola (Md.)', 'Eastern Wash.', 'Montana St.', 'Long Island', 'South Ala.', 'UTRGV', 'Miami (Fla.)', 'Central Conn. St.', 'Kennesaw St.', 'Sam Houston St.', 'Illinois St.', 'North Carolina St.', 'Iowa St.', 'Mich. St. ', 'Cal Baptist', 'Detroit', 'Nicholls St.', 'Centenary (LA)', 'Western Ill.', 'Albany (NY)', 'Boise St.', 'Delaware St.', 'Fairleigh D&#039;son', 'Southern Miss.', 'Oklahoma St.', 'Weber St.', 'Seattle U', 'Georgia St.', 'Florida A&amp;M', 'American', 'Central Mich.', 'St. Mary&#039;s (CA)', 'Washington St.', 'LSU Shreveport', 'New Mexico St.', 'Ga. Southern', 'South Dakota St.', 'Texas St.', 'Louisiana', 'N.C. A&amp;T', 'UConn', \"Saint Joseph's\", 'Lamar University', 'Arizona St.', 'Alas. Anchorage', 'UNCW', 'St. Francis (Pa.)', 'Mississippi', 'Norfolk St.', 'NC State', 'Fort Wayne', 'Northwestern St.', 'Northern Colo.', 'UT Martin', 'Charleston So.', 'Rowan', 'Ohio St.', 'Southern Ill.', 'Fla. Atlantic', 'Central Ark.', 'CSU Fullerton', 'Stephen F. Austin', 'FIU', 'Long Beach St.', 'Morgan St.', 'La.-Monroe', 'Geo. Washington', 'CSU Bakersfield', 'Mass.-Lowell', 'Ill.-Chicago', 'Texas A&amp;M-C.C.', 'Grambling', 'Col. of Charleston', 'Ohio St. ', 'Alcorn St.', 'UNC Wilmington', 'San Diego St.', 'South Fla.', 'Cent. Conn. St.', 'VMI', 'St. John&#039;s ', 'Prairie View A&amp;M', 'Humboldt State', 'Eastern Ky.', 'Morehead St.', 'Western Mich.', 'Utah St.', 'Chaminade', 'Neb. Omaha', 'Middle Tenn.', 'Little Rock', 'UNI', 'Youngstown St.', 'San Jose St.', 'Bakersfield', 'Northern Ariz.', 'Southern California', 'Western Ky.', 'Florida St.', 'Md.-East. Shore'}\n"
          ],
          "name": "stdout"
        }
      ]
    },
    {
      "cell_type": "code",
      "metadata": {
        "id": "61crV_PL4HUo",
        "colab_type": "code",
        "colab": {}
      },
      "source": [
        "def replace_entities(s):\n",
        "  if isinstance(s, str):\n",
        "    return s.replace(\"&amp;\", \"&\").replace(\"&#039;\", \"'\")\n",
        "  else:\n",
        "    return \"\"\n",
        "\n",
        "df_g[\"HTeam\"] = df_g[\"HomeTeam\"].apply(replace_entities)\n",
        "df_g[\"ATeam\"] = df_g[\"AwayTeam\"].apply(replace_entities)\n"
      ],
      "execution_count": 11,
      "outputs": []
    },
    {
      "cell_type": "code",
      "metadata": {
        "id": "JnRzNnKzxJ1M",
        "colab_type": "code",
        "colab": {}
      },
      "source": [
        "import re\n",
        "\n",
        "EXPANSIONS = [(\"Ala.\", \"Alabama\"),\n",
        "              (\"Alas.\", \"Alaska\"),\n",
        "              (\"Ariz.\", \"Arizona\"),\n",
        "              (\"Ark.\", \"Arkansas\"),\n",
        "              (\"Barb.\", \"Barbara\"),\n",
        "              (\"(B'klyn)\", \"(BKN)\"),\n",
        "              (\"(Cal.)\", \"(CA)\"),\n",
        "              (\"Cal St.\", \"Cal State\"),\n",
        "              (\"Caro.\", \"Carolina\"),\n",
        "              (\"C.C.\", \"CC\"),\n",
        "              (\"Corpus Chris\", \"CC\"),\n",
        "              (\"Cent.\", \"Central\"),\n",
        "              (\"Colo.\", \"Colorado\"),\n",
        "              (\"Conn.\", \"Connecticut\"),\n",
        "              (\"CSU\", \"Cal State\"),\n",
        "              (\"D'son\", \"Dickinson\"),\n",
        "              (\"East.\", \"Eastern\"),\n",
        "              (\"(Fla.)\", \"(FL)\"),\n",
        "              (\"Fla.\", \"Florida\"),\n",
        "              (\"Ga.\", \"Georgia\"),\n",
        "              (\"Geo.\", \"George\"),\n",
        "              (\"Ill.\", \"Illinois\"),\n",
        "              (\"La.\", \"Louisiana\"),\n",
        "              (\"Ky.\", \"Kentucky\"),\n",
        "              (\"Mass.\", \"Massachusetts\"),\n",
        "              (\"(Md.)\", \"(MD)\"),\n",
        "              (\"Md.\", \"Maryland\"),\n",
        "              (\"Mich.\", \"Michigan\"),\n",
        "              (\"Miss.\", \"Mississippi\"),\n",
        "              (\"Mo.\", \"Missouri\"),\n",
        "              (\"Mt.\", \"Mount\"),\n",
        "              (\"N.C.\", \"North Carolina\"),\n",
        "              (\"Neb.\", \"Nebraska\"),\n",
        "              (\"N'western\", \"Northwestern\"),\n",
        "              (\"(Ohio)\", \"(OH)\"),\n",
        "              (\"(Pa.)\", \"(PA)\"),\n",
        "              (\"S.C.\", \"South Carolina\"),\n",
        "              (\"S.\", \"South\"),\n",
        "              (\"So.\", \"Southern\"),\n",
        "              (\"Tenn.\", \"Tennessee\"),\n",
        "              (\"U.\", \"University\"),\n",
        "              (\"Univ.\", \"University\"),\n",
        "              (\"Val.\", \"Valley\"),\n",
        "              (\"Wash.\", \"Washington\")\n",
        "              ]\n",
        "\n",
        "SET_NEEDS_STATE = set([\"Grambling\",\n",
        "                       \"Long Beach\",\n",
        "                       \"McNeese\",\n",
        "                       \"Mississippi\",\n",
        "                       \"Mississippi Valley\"])\n",
        "\n",
        "\n",
        "\n",
        "FULL_REPLACEMENTS = [(\"A&M-CC\", \"Texas A&M-CC\"),\n",
        "                     (\"Albany (NY)\", \"Albany\"),\n",
        "                     (\"American\", \"American University\"),\n",
        "                     (\"Army West Point\", \"Army\"),\n",
        "                     (\"Bakersfield\", \"Cal State Bakersfield\"),\n",
        "                     (\"Bryant\", \"Bryant University\"),\n",
        "                     (\"Cal Baptist\", \"California Baptist\"),\n",
        "                     (\"Charleston South\", \"Charleston Southern\"),\n",
        "                     (\"Col. of Charleston\", \"Charleston\"),\n",
        "                     (\"Detroit\", \"Detroit Mercy\"),\n",
        "                     (\"FGCU\", \"Florida Gulf Coast\"),\n",
        "                     (\"FIU\", \"Florida International\"),\n",
        "                     (\"Fort Wayne\", \"Purdue Fort Wayne\"),\n",
        "                     (\"IPFW\", \"Purdue Fort Wayne\"),\n",
        "                     (\"Lamar University\", \"Lamar\"),\n",
        "                     (\"Little Rock\", \"Arkansas-Little Rock\"),\n",
        "                     (\"LMU\", \"Loyola Marymount\"),\n",
        "                     (\"Long Island\", \"LIU Brooklyn\"),\n",
        "                     (\"Louisiana\", \"Louisiana-Lafayette\"),\n",
        "                     (\"Loyola Chicago\", \"Loyola (IL)\"),\n",
        "                     (\"Loyola Maryland\", \"Loyola (MD)\"),\n",
        "                     (\"LSU Shreveport\", \"LSU\"),\n",
        "                     (\"NC State\", \"North Carolina State\"),\n",
        "                     (\"Omaha\", \"Nebraska-Omaha\"),\n",
        "                     (\"Penn\", \"Pennsylvania\"),\n",
        "                     (\"Prairie View\", \"Prairie View A&M\"),\n",
        "                     (\"SIUE\", \"SIU-Edwardsville\"),\n",
        "                     (\"UALR\", \"Arkansas-Little Rock\"),\n",
        "                     (\"UConn\", \"Connecticut\"),\n",
        "                     (\"UIC\", \"Illinois-Chicago\"),\n",
        "                     (\"UMES\", \"Maryland-Eastern Shore\"),\n",
        "                     (\"UNCG\", \"UNC Greensboro\"),\n",
        "                     (\"UNC Wilmington\", \"North Carolina-Wilmington\"),\n",
        "                     (\"UNCW\", \"North Carolina-Wilmington\"),\n",
        "                     (\"UNI\", \"Northern Iowa\"),\n",
        "                     (\"UT Arlington\", \"Texas-Arlington\"),\n",
        "                     (\"UT Martin\", \"Tennessee-Martin\"),\n",
        "                     (\"UTRGV\", \"Texas Rio Grande Valley\"),\n",
        "                     (\"Saint Joseph's\", \"Saint Joseph's (PA)\"),\n",
        "                     (\"Seattle U\", \"Seattle\"),\n",
        "                     (\"SFA\", \"Stephen F Austin\"),\n",
        "                     (\"Southern California\", \"USC\"),\n",
        "                     (\"South Carolina Upstate\", \"USC Upstate\"),\n",
        "                     (\"Southern Mississippi\", \"Southern Miss\"),\n",
        "                     (\"St Francis (NY)\", \"St Francis (BKN)\"),\n",
        "                     (\"St John's (NY)\", \"St John's\"),\n",
        "                     (\"St Mary's (CA)\", \"Saint Mary's\"),\n",
        "                     (\"VCU\", \"Virginia Commonwealth\"),\n",
        "                     (\"VMI\", \"Virginia Military\")]\n",
        "\n",
        "\n",
        "def team_names_cleanup(s):\n",
        "  if isinstance(s, str):\n",
        "    # Remove trailing white space\n",
        "    s = s.strip()\n",
        "    # Expand abbreviations\n",
        "    for a,b in EXPANSIONS:\n",
        "      s = s.replace(a, b)\n",
        "    # Expand 'St.' cases\n",
        "    q = re.compile(\"\\s+St\\.$\", re.IGNORECASE)\n",
        "    s = re.sub(q, \" State\", s)\n",
        "    # Handle all other 'St.' cases\n",
        "    p = re.compile(\"St\\.\", re.IGNORECASE)\n",
        "    s = re.sub(p, \"St\", s)\n",
        "    # \n",
        "    if s in SET_NEEDS_STATE:\n",
        "      s += \" State\"\n",
        "    # Catch all\n",
        "    for a,b in FULL_REPLACEMENTS:\n",
        "      if s == a:\n",
        "        s = b\n",
        "\n",
        "  return s\n",
        "\n",
        "def expand_state(s):\n",
        "  q = re.compile(\"\\s+St\\.$\", re.IGNORECASE)\n",
        "  s = re.sub(q, \" State\", s)\n",
        "  return s\n",
        "\n",
        "#    p = re.compile(\"St\\.\", re.IGNORECASE)\n",
        "#    s = re.sub(p, \"St\", s)\n",
        "\n",
        "\n",
        "def append_state_if_needed(s):\n",
        "  if isinstance(s, str):\n",
        "    for a in NEEDS_STATE:\n",
        "      p = re.compile(a+\"$\")\n",
        "      m = p.match(s)\n",
        "      if m:\n",
        "        s += \" State\"\n",
        "  return s\n",
        "\n",
        "#df_g[\"HTeam\"] = df_g[\"HTeam\"].apply(expand_abbreviations)\n",
        "#df_g[\"ATeam\"] = df_g[\"ATeam\"].apply(expand_abbreviations)\n",
        "\n",
        "#df_g[\"HTeam\"] = df_g[\"HTeam\"].apply(expand_state)\n",
        "#df_g[\"ATeam\"] = df_g[\"ATeam\"].apply(expand_state)\n",
        "\n",
        "df_g[\"HTeam\"] = df_g[\"HTeam\"].apply(team_names_cleanup)\n",
        "df_g[\"ATeam\"] = df_g[\"ATeam\"].apply(team_names_cleanup)\n"
      ],
      "execution_count": 12,
      "outputs": []
    },
    {
      "cell_type": "code",
      "metadata": {
        "id": "fz2oi7pCwkfG",
        "colab_type": "code",
        "colab": {
          "base_uri": "https://localhost:8080/",
          "height": 35
        },
        "outputId": "a3bd9ce7-cf1b-4a14-9d91-61718fd3ca2f"
      },
      "source": [
        "print(df_g.HTeam.nunique(), df_g.ATeam.nunique())"
      ],
      "execution_count": 13,
      "outputs": [
        {
          "output_type": "stream",
          "text": [
            "365 924\n"
          ],
          "name": "stdout"
        }
      ]
    },
    {
      "cell_type": "code",
      "metadata": {
        "id": "7pOUagnVaecY",
        "colab_type": "code",
        "colab": {
          "base_uri": "https://localhost:8080/",
          "height": 35
        },
        "outputId": "41ee36d0-522c-4766-cacb-689353503b98"
      },
      "source": [
        "set(df_t.Team) - set(df_g.HTeam.unique())"
      ],
      "execution_count": 14,
      "outputs": [
        {
          "output_type": "execute_result",
          "data": {
            "text/plain": [
              "set()"
            ]
          },
          "metadata": {
            "tags": []
          },
          "execution_count": 14
        }
      ]
    },
    {
      "cell_type": "code",
      "metadata": {
        "id": "8FAWBf9ZCX9P",
        "colab_type": "code",
        "colab": {
          "base_uri": "https://localhost:8080/",
          "height": 235
        },
        "outputId": "17d6e196-9a9f-44ee-9f5c-0dfe7c457407"
      },
      "source": [
        "set(df_g.HTeam.unique()) - set(df_t.Team)"
      ],
      "execution_count": 15,
      "outputs": [
        {
          "output_type": "execute_result",
          "data": {
            "text/plain": [
              "{'Alaska Anchorage',\n",
              " 'Ave Maria',\n",
              " 'Cal StateN',\n",
              " 'Centenary (LA)',\n",
              " 'Chaminade',\n",
              " 'Humboldt State',\n",
              " 'Mid-Atlantic ChriSt',\n",
              " 'Nebraska Omaha',\n",
              " 'Rowan',\n",
              " 'SIU Edwardsville',\n",
              " 'Stephen F. Austin',\n",
              " 'University of the Southwest'}"
            ]
          },
          "metadata": {
            "tags": []
          },
          "execution_count": 15
        }
      ]
    },
    {
      "cell_type": "code",
      "metadata": {
        "id": "__nS5tboCESX",
        "colab_type": "code",
        "colab": {}
      },
      "source": [
        "def transform_team_name(s):\n",
        "  unwanted = \"!#$%&'()*+,./:;<=>?@[\\]^_`{|}~\"\n",
        "  return (s.translate(str.maketrans(\"\", \"\", unwanted))\n",
        "           .lower()\n",
        "           .replace(\" \", \"-\")\n",
        "           .strip())\n",
        "\n",
        "\n",
        "df_g[\"HTeam_\"] = df_g[\"HTeam\"].apply(transform_team_name)\n",
        "df_g[\"ATeam_\"] = df_g[\"ATeam\"].apply(transform_team_name)\n",
        "df_t[\"Team_\"] = df_t[\"Team\"].apply(transform_team_name)"
      ],
      "execution_count": 16,
      "outputs": []
    },
    {
      "cell_type": "code",
      "metadata": {
        "id": "-FAyKjw6C5af",
        "colab_type": "code",
        "colab": {
          "base_uri": "https://localhost:8080/",
          "height": 162
        },
        "outputId": "68b9662c-9216-451e-904a-9f23c14213e1"
      },
      "source": [
        "print(df_g.head())"
      ],
      "execution_count": 17,
      "outputs": [
        {
          "output_type": "stream",
          "text": [
            "     GameDate       HomeTeam  ...            HTeam_         ATeam_\n",
            "0  2015-11-13         Hawaii  ...            hawaii  montana-state\n",
            "1  2015-11-13  Eastern Mich.  ...  eastern-michigan        vermont\n",
            "2  2015-11-13       Columbia  ...          columbia           kean\n",
            "3  2015-11-13     La.-Monroe  ...  louisiana-monroe        mcmurry\n",
            "4  2015-11-13           Yale  ...              yale      fairfield\n",
            "\n",
            "[5 rows x 9 columns]\n"
          ],
          "name": "stdout"
        }
      ]
    },
    {
      "cell_type": "code",
      "metadata": {
        "id": "MoQxJVHhc1S-",
        "colab_type": "code",
        "colab": {}
      },
      "source": [
        "df_games = df_g.copy()"
      ],
      "execution_count": 18,
      "outputs": []
    },
    {
      "cell_type": "code",
      "metadata": {
        "id": "CYQL7KEeRfsi",
        "colab_type": "code",
        "colab": {
          "base_uri": "https://localhost:8080/",
          "height": 35
        },
        "outputId": "2abb4993-48a2-4cbd-8e3a-6e35e652a725"
      },
      "source": [
        "df_games.shape"
      ],
      "execution_count": 20,
      "outputs": [
        {
          "output_type": "execute_result",
          "data": {
            "text/plain": [
              "(23493, 9)"
            ]
          },
          "metadata": {
            "tags": []
          },
          "execution_count": 20
        }
      ]
    },
    {
      "cell_type": "code",
      "metadata": {
        "id": "66KPwFsnSrI8",
        "colab_type": "code",
        "colab": {
          "base_uri": "https://localhost:8080/",
          "height": 35
        },
        "outputId": "eeebf9f2-aa96-462f-d528-440f343ad1ff"
      },
      "source": [
        "merged = pd.merge(df_games, df_t, left_on=['HTeam_'], right_on=['Team_'])\n",
        "merged.shape"
      ],
      "execution_count": 21,
      "outputs": [
        {
          "output_type": "execute_result",
          "data": {
            "text/plain": [
              "(23454, 12)"
            ]
          },
          "metadata": {
            "tags": []
          },
          "execution_count": 21
        }
      ]
    },
    {
      "cell_type": "code",
      "metadata": {
        "id": "zritN52LTfnS",
        "colab_type": "code",
        "colab": {
          "base_uri": "https://localhost:8080/",
          "height": 295
        },
        "outputId": "b5322983-afb5-48b1-f291-868137e4ccbd"
      },
      "source": [
        "merged.head()"
      ],
      "execution_count": 22,
      "outputs": [
        {
          "output_type": "execute_result",
          "data": {
            "text/html": [
              "<div>\n",
              "<style scoped>\n",
              "    .dataframe tbody tr th:only-of-type {\n",
              "        vertical-align: middle;\n",
              "    }\n",
              "\n",
              "    .dataframe tbody tr th {\n",
              "        vertical-align: top;\n",
              "    }\n",
              "\n",
              "    .dataframe thead th {\n",
              "        text-align: right;\n",
              "    }\n",
              "</style>\n",
              "<table border=\"1\" class=\"dataframe\">\n",
              "  <thead>\n",
              "    <tr style=\"text-align: right;\">\n",
              "      <th></th>\n",
              "      <th>GameDate</th>\n",
              "      <th>HomeTeam</th>\n",
              "      <th>HomeScore</th>\n",
              "      <th>AwayTeam</th>\n",
              "      <th>AwayScore</th>\n",
              "      <th>HTeam</th>\n",
              "      <th>ATeam</th>\n",
              "      <th>HTeam_</th>\n",
              "      <th>ATeam_</th>\n",
              "      <th>Conference</th>\n",
              "      <th>Team</th>\n",
              "      <th>Team_</th>\n",
              "    </tr>\n",
              "  </thead>\n",
              "  <tbody>\n",
              "    <tr>\n",
              "      <th>0</th>\n",
              "      <td>2015-11-13</td>\n",
              "      <td>Hawaii</td>\n",
              "      <td>87</td>\n",
              "      <td>Montana St.</td>\n",
              "      <td>76</td>\n",
              "      <td>Hawaii</td>\n",
              "      <td>Montana State</td>\n",
              "      <td>hawaii</td>\n",
              "      <td>montana-state</td>\n",
              "      <td>Big West</td>\n",
              "      <td>Hawaii</td>\n",
              "      <td>hawaii</td>\n",
              "    </tr>\n",
              "    <tr>\n",
              "      <th>1</th>\n",
              "      <td>2015-11-15</td>\n",
              "      <td>Hawaii</td>\n",
              "      <td>74</td>\n",
              "      <td>Coastal Caro.</td>\n",
              "      <td>63</td>\n",
              "      <td>Hawaii</td>\n",
              "      <td>Coastal Carolina</td>\n",
              "      <td>hawaii</td>\n",
              "      <td>coastal-carolina</td>\n",
              "      <td>Big West</td>\n",
              "      <td>Hawaii</td>\n",
              "      <td>hawaii</td>\n",
              "    </tr>\n",
              "    <tr>\n",
              "      <th>2</th>\n",
              "      <td>2015-11-17</td>\n",
              "      <td>Hawaii</td>\n",
              "      <td>76</td>\n",
              "      <td>Nevada</td>\n",
              "      <td>75</td>\n",
              "      <td>Hawaii</td>\n",
              "      <td>Nevada</td>\n",
              "      <td>hawaii</td>\n",
              "      <td>nevada</td>\n",
              "      <td>Big West</td>\n",
              "      <td>Hawaii</td>\n",
              "      <td>hawaii</td>\n",
              "    </tr>\n",
              "    <tr>\n",
              "      <th>3</th>\n",
              "      <td>2015-11-22</td>\n",
              "      <td>Hawaii</td>\n",
              "      <td>99</td>\n",
              "      <td>Nicholls St.</td>\n",
              "      <td>74</td>\n",
              "      <td>Hawaii</td>\n",
              "      <td>Nicholls State</td>\n",
              "      <td>hawaii</td>\n",
              "      <td>nicholls-state</td>\n",
              "      <td>Big West</td>\n",
              "      <td>Hawaii</td>\n",
              "      <td>hawaii</td>\n",
              "    </tr>\n",
              "    <tr>\n",
              "      <th>4</th>\n",
              "      <td>2015-12-02</td>\n",
              "      <td>Hawaii</td>\n",
              "      <td>75</td>\n",
              "      <td>Ark.-Pine Bluff</td>\n",
              "      <td>47</td>\n",
              "      <td>Hawaii</td>\n",
              "      <td>Arkansas-Pine Bluff</td>\n",
              "      <td>hawaii</td>\n",
              "      <td>arkansas-pine-bluff</td>\n",
              "      <td>Big West</td>\n",
              "      <td>Hawaii</td>\n",
              "      <td>hawaii</td>\n",
              "    </tr>\n",
              "  </tbody>\n",
              "</table>\n",
              "</div>"
            ],
            "text/plain": [
              "     GameDate HomeTeam  HomeScore  ... Conference    Team   Team_\n",
              "0  2015-11-13   Hawaii         87  ...   Big West  Hawaii  hawaii\n",
              "1  2015-11-15   Hawaii         74  ...   Big West  Hawaii  hawaii\n",
              "2  2015-11-17   Hawaii         76  ...   Big West  Hawaii  hawaii\n",
              "3  2015-11-22   Hawaii         99  ...   Big West  Hawaii  hawaii\n",
              "4  2015-12-02   Hawaii         75  ...   Big West  Hawaii  hawaii\n",
              "\n",
              "[5 rows x 12 columns]"
            ]
          },
          "metadata": {
            "tags": []
          },
          "execution_count": 22
        }
      ]
    },
    {
      "cell_type": "code",
      "metadata": {
        "id": "xF_QPRcoUKVx",
        "colab_type": "code",
        "colab": {
          "base_uri": "https://localhost:8080/",
          "height": 35
        },
        "outputId": "90261f1f-739c-4fcd-9b19-54e037cba620"
      },
      "source": [
        "merged2 = pd.merge(merged, df_t, left_on=['ATeam_'], right_on=['Team_'])\n",
        "merged2.shape"
      ],
      "execution_count": 23,
      "outputs": [
        {
          "output_type": "execute_result",
          "data": {
            "text/plain": [
              "(21783, 15)"
            ]
          },
          "metadata": {
            "tags": []
          },
          "execution_count": 23
        }
      ]
    },
    {
      "cell_type": "code",
      "metadata": {
        "id": "T5qvvdrzUYuL",
        "colab_type": "code",
        "colab": {
          "base_uri": "https://localhost:8080/",
          "height": 313
        },
        "outputId": "e8aa2341-893f-4c4a-ae58-d220f4ae8582"
      },
      "source": [
        "merged2.head()"
      ],
      "execution_count": 24,
      "outputs": [
        {
          "output_type": "execute_result",
          "data": {
            "text/html": [
              "<div>\n",
              "<style scoped>\n",
              "    .dataframe tbody tr th:only-of-type {\n",
              "        vertical-align: middle;\n",
              "    }\n",
              "\n",
              "    .dataframe tbody tr th {\n",
              "        vertical-align: top;\n",
              "    }\n",
              "\n",
              "    .dataframe thead th {\n",
              "        text-align: right;\n",
              "    }\n",
              "</style>\n",
              "<table border=\"1\" class=\"dataframe\">\n",
              "  <thead>\n",
              "    <tr style=\"text-align: right;\">\n",
              "      <th></th>\n",
              "      <th>GameDate</th>\n",
              "      <th>HomeTeam</th>\n",
              "      <th>HomeScore</th>\n",
              "      <th>AwayTeam</th>\n",
              "      <th>AwayScore</th>\n",
              "      <th>HTeam</th>\n",
              "      <th>ATeam</th>\n",
              "      <th>HTeam_</th>\n",
              "      <th>ATeam_</th>\n",
              "      <th>Conference_x</th>\n",
              "      <th>Team_x</th>\n",
              "      <th>Team__x</th>\n",
              "      <th>Conference_y</th>\n",
              "      <th>Team_y</th>\n",
              "      <th>Team__y</th>\n",
              "    </tr>\n",
              "  </thead>\n",
              "  <tbody>\n",
              "    <tr>\n",
              "      <th>0</th>\n",
              "      <td>2015-11-13</td>\n",
              "      <td>Hawaii</td>\n",
              "      <td>87</td>\n",
              "      <td>Montana St.</td>\n",
              "      <td>76</td>\n",
              "      <td>Hawaii</td>\n",
              "      <td>Montana State</td>\n",
              "      <td>hawaii</td>\n",
              "      <td>montana-state</td>\n",
              "      <td>Big West</td>\n",
              "      <td>Hawaii</td>\n",
              "      <td>hawaii</td>\n",
              "      <td>Big Sky</td>\n",
              "      <td>Montana State</td>\n",
              "      <td>montana-state</td>\n",
              "    </tr>\n",
              "    <tr>\n",
              "      <th>1</th>\n",
              "      <td>2016-01-14</td>\n",
              "      <td>North Dakota</td>\n",
              "      <td>85</td>\n",
              "      <td>Montana St.</td>\n",
              "      <td>68</td>\n",
              "      <td>North Dakota</td>\n",
              "      <td>Montana State</td>\n",
              "      <td>north-dakota</td>\n",
              "      <td>montana-state</td>\n",
              "      <td>Summit League</td>\n",
              "      <td>North Dakota</td>\n",
              "      <td>north-dakota</td>\n",
              "      <td>Big Sky</td>\n",
              "      <td>Montana State</td>\n",
              "      <td>montana-state</td>\n",
              "    </tr>\n",
              "    <tr>\n",
              "      <th>2</th>\n",
              "      <td>2018-02-01</td>\n",
              "      <td>North Dakota</td>\n",
              "      <td>75</td>\n",
              "      <td>Montana St.</td>\n",
              "      <td>74</td>\n",
              "      <td>North Dakota</td>\n",
              "      <td>Montana State</td>\n",
              "      <td>north-dakota</td>\n",
              "      <td>montana-state</td>\n",
              "      <td>Summit League</td>\n",
              "      <td>North Dakota</td>\n",
              "      <td>north-dakota</td>\n",
              "      <td>Big Sky</td>\n",
              "      <td>Montana State</td>\n",
              "      <td>montana-state</td>\n",
              "    </tr>\n",
              "    <tr>\n",
              "      <th>3</th>\n",
              "      <td>2018-03-06</td>\n",
              "      <td>North Dakota</td>\n",
              "      <td>0</td>\n",
              "      <td>Montana St.</td>\n",
              "      <td>0</td>\n",
              "      <td>North Dakota</td>\n",
              "      <td>Montana State</td>\n",
              "      <td>north-dakota</td>\n",
              "      <td>montana-state</td>\n",
              "      <td>Summit League</td>\n",
              "      <td>North Dakota</td>\n",
              "      <td>north-dakota</td>\n",
              "      <td>Big Sky</td>\n",
              "      <td>Montana State</td>\n",
              "      <td>montana-state</td>\n",
              "    </tr>\n",
              "    <tr>\n",
              "      <th>4</th>\n",
              "      <td>2017-12-05</td>\n",
              "      <td>Central Mich.</td>\n",
              "      <td>75</td>\n",
              "      <td>Montana St.</td>\n",
              "      <td>48</td>\n",
              "      <td>Central Michigan</td>\n",
              "      <td>Montana State</td>\n",
              "      <td>central-michigan</td>\n",
              "      <td>montana-state</td>\n",
              "      <td>Mid-American</td>\n",
              "      <td>Central Michigan</td>\n",
              "      <td>central-michigan</td>\n",
              "      <td>Big Sky</td>\n",
              "      <td>Montana State</td>\n",
              "      <td>montana-state</td>\n",
              "    </tr>\n",
              "  </tbody>\n",
              "</table>\n",
              "</div>"
            ],
            "text/plain": [
              "     GameDate       HomeTeam  ...         Team_y        Team__y\n",
              "0  2015-11-13         Hawaii  ...  Montana State  montana-state\n",
              "1  2016-01-14   North Dakota  ...  Montana State  montana-state\n",
              "2  2018-02-01   North Dakota  ...  Montana State  montana-state\n",
              "3  2018-03-06   North Dakota  ...  Montana State  montana-state\n",
              "4  2017-12-05  Central Mich.  ...  Montana State  montana-state\n",
              "\n",
              "[5 rows x 15 columns]"
            ]
          },
          "metadata": {
            "tags": []
          },
          "execution_count": 24
        }
      ]
    },
    {
      "cell_type": "code",
      "metadata": {
        "id": "GxS4kD4AU0_C",
        "colab_type": "code",
        "colab": {}
      },
      "source": [
        "merged2.to_csv('cleaned-data.csv',mode = 'w', index=False)"
      ],
      "execution_count": 25,
      "outputs": []
    }
  ]
}