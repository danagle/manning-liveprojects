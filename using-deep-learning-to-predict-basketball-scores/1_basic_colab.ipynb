{
  "nbformat": 4,
  "nbformat_minor": 0,
  "metadata": {
    "colab": {
      "name": "1-basic-colab.ipynb",
      "provenance": [],
      "collapsed_sections": []
    },
    "kernelspec": {
      "name": "python3",
      "display_name": "Python 3"
    }
  },
  "cells": [
    {
      "cell_type": "markdown",
      "metadata": {
        "id": "X8dK6NQ6OSSn",
        "colab_type": "text"
      },
      "source": [
        "## 1.1 Workflow\n",
        "Start a new Google Colab Notebook and validate the libraries:\n",
        "\n",
        "*    Validate that Python is at least 3.6.\n",
        "*    Validate that NumPy is at least 1.18.\n",
        "*    Validate that pandas is at least 1.0.\n",
        "*    Validate that TensorFlow is at least 2.2.\n"
      ]
    },
    {
      "cell_type": "code",
      "metadata": {
        "id": "oSo5pRnSOHFf",
        "colab_type": "code",
        "colab": {
          "base_uri": "https://localhost:8080/",
          "height": 54
        },
        "outputId": "3862d9da-b1eb-4efa-bd27-e28b060c4b7e"
      },
      "source": [
        "import sys\n",
        "print(sys.version)"
      ],
      "execution_count": 1,
      "outputs": [
        {
          "output_type": "stream",
          "text": [
            "3.6.9 (default, Apr 18 2020, 01:56:04) \n",
            "[GCC 8.4.0]\n"
          ],
          "name": "stdout"
        }
      ]
    },
    {
      "cell_type": "code",
      "metadata": {
        "id": "gkmHcdZ4L3DC",
        "colab_type": "code",
        "colab": {
          "base_uri": "https://localhost:8080/",
          "height": 36
        },
        "outputId": "aa924284-05d5-4097-8dbc-29cb1a54849b"
      },
      "source": [
        "import numpy as np\n",
        "print(np.__version__)"
      ],
      "execution_count": 2,
      "outputs": [
        {
          "output_type": "stream",
          "text": [
            "1.18.5\n"
          ],
          "name": "stdout"
        }
      ]
    },
    {
      "cell_type": "code",
      "metadata": {
        "id": "9_MXYcHdM2so",
        "colab_type": "code",
        "colab": {
          "base_uri": "https://localhost:8080/",
          "height": 36
        },
        "outputId": "746f1105-2b34-4cf2-c1a5-112e682e835a"
      },
      "source": [
        "import pandas as pd\n",
        "print(pd.__version__)"
      ],
      "execution_count": 3,
      "outputs": [
        {
          "output_type": "stream",
          "text": [
            "1.0.5\n"
          ],
          "name": "stdout"
        }
      ]
    },
    {
      "cell_type": "code",
      "metadata": {
        "id": "O58sNRfxNshp",
        "colab_type": "code",
        "colab": {
          "base_uri": "https://localhost:8080/",
          "height": 36
        },
        "outputId": "5189f4c0-a42a-4ed6-a513-60e815c5d421"
      },
      "source": [
        "import tensorflow as tf\n",
        "print(tf.__version__)"
      ],
      "execution_count": 4,
      "outputs": [
        {
          "output_type": "stream",
          "text": [
            "2.2.0\n"
          ],
          "name": "stdout"
        }
      ]
    },
    {
      "cell_type": "markdown",
      "metadata": {
        "id": "kO9s7_1oPabI",
        "colab_type": "text"
      },
      "source": [
        "## 1.2 Workflow\n",
        "\n",
        "*    Create a 4 column DataFrame with 10 rows, the first column being a date field and the rest numbers.\n",
        "*    Fill the first column with the first day of each month for 3 years (for example: 1/1/2018, 2/1/2018).\n",
        "*    Fill the next 2 columns with random numbers.\n",
        "*    Fill the 4th column with the difference of the first 2 data columns (for example: Col3 - Col2).\n",
        "*    Break the DataFrame into 3 different DataFrames based on the dates (for example: 2018, 2019, 2020)\n",
        "\n"
      ]
    },
    {
      "cell_type": "code",
      "metadata": {
        "id": "TdgY_Co3SW6T",
        "colab_type": "code",
        "colab": {}
      },
      "source": [
        "# Generate the column data\n",
        "import datetime\n",
        "\n",
        "UPPER_LIMIT = 100\n",
        "\n",
        "years = range(2017, 2020, 1)\n",
        "months = range(1, 13, 1)\n",
        "\n",
        "col1 = [datetime.date(y, m, 1).strftime(\"%m/%d/%Y\") for y in years for m in months]\n",
        "col2 = np.random.randint(1, UPPER_LIMIT, len(col1))\n",
        "col3 = np.random.randint(1, UPPER_LIMIT, len(col1))\n"
      ],
      "execution_count": 5,
      "outputs": []
    },
    {
      "cell_type": "code",
      "metadata": {
        "id": "u-IwSkzTOug1",
        "colab_type": "code",
        "colab": {}
      },
      "source": [
        "# Create the dataframe from the columns data\n",
        "df = pd.DataFrame({\"col1\": col1, \"col2\": col2, \"col3\": col3})\n",
        "# Add fourth column\n",
        "df[\"col4\"] = df[\"col3\"] - df[\"col2\"]"
      ],
      "execution_count": 6,
      "outputs": []
    },
    {
      "cell_type": "code",
      "metadata": {
        "id": "clEoEgMOeZ46",
        "colab_type": "code",
        "colab": {
          "base_uri": "https://localhost:8080/",
          "height": 206
        },
        "outputId": "df352017-4002-455f-da53-2951bca4d4ff"
      },
      "source": [
        "df.head()\n"
      ],
      "execution_count": 7,
      "outputs": [
        {
          "output_type": "execute_result",
          "data": {
            "text/html": [
              "<div>\n",
              "<style scoped>\n",
              "    .dataframe tbody tr th:only-of-type {\n",
              "        vertical-align: middle;\n",
              "    }\n",
              "\n",
              "    .dataframe tbody tr th {\n",
              "        vertical-align: top;\n",
              "    }\n",
              "\n",
              "    .dataframe thead th {\n",
              "        text-align: right;\n",
              "    }\n",
              "</style>\n",
              "<table border=\"1\" class=\"dataframe\">\n",
              "  <thead>\n",
              "    <tr style=\"text-align: right;\">\n",
              "      <th></th>\n",
              "      <th>col1</th>\n",
              "      <th>col2</th>\n",
              "      <th>col3</th>\n",
              "      <th>col4</th>\n",
              "    </tr>\n",
              "  </thead>\n",
              "  <tbody>\n",
              "    <tr>\n",
              "      <th>0</th>\n",
              "      <td>01/01/2017</td>\n",
              "      <td>42</td>\n",
              "      <td>58</td>\n",
              "      <td>16</td>\n",
              "    </tr>\n",
              "    <tr>\n",
              "      <th>1</th>\n",
              "      <td>02/01/2017</td>\n",
              "      <td>48</td>\n",
              "      <td>66</td>\n",
              "      <td>18</td>\n",
              "    </tr>\n",
              "    <tr>\n",
              "      <th>2</th>\n",
              "      <td>03/01/2017</td>\n",
              "      <td>30</td>\n",
              "      <td>84</td>\n",
              "      <td>54</td>\n",
              "    </tr>\n",
              "    <tr>\n",
              "      <th>3</th>\n",
              "      <td>04/01/2017</td>\n",
              "      <td>34</td>\n",
              "      <td>89</td>\n",
              "      <td>55</td>\n",
              "    </tr>\n",
              "    <tr>\n",
              "      <th>4</th>\n",
              "      <td>05/01/2017</td>\n",
              "      <td>63</td>\n",
              "      <td>72</td>\n",
              "      <td>9</td>\n",
              "    </tr>\n",
              "  </tbody>\n",
              "</table>\n",
              "</div>"
            ],
            "text/plain": [
              "         col1  col2  col3  col4\n",
              "0  01/01/2017    42    58    16\n",
              "1  02/01/2017    48    66    18\n",
              "2  03/01/2017    30    84    54\n",
              "3  04/01/2017    34    89    55\n",
              "4  05/01/2017    63    72     9"
            ]
          },
          "metadata": {
            "tags": []
          },
          "execution_count": 7
        }
      ]
    },
    {
      "cell_type": "code",
      "metadata": {
        "id": "p7eQ0KRIiznN",
        "colab_type": "code",
        "colab": {
          "base_uri": "https://localhost:8080/",
          "height": 353
        },
        "outputId": "2cbc9374-c4fd-43ad-b95c-f4a47ae16198"
      },
      "source": [
        "# Filter the dataframe\n",
        "df_2017 = df[df[\"col1\"].str.contains(\"2017$\")]\n",
        "df_2018 = df[df[\"col1\"].str.contains(\"2018$\")]\n",
        "df_2019 = df[df[\"col1\"].str.contains(\"2019$\")]\n",
        "\n",
        "print(df_2017.head())\n",
        "print(df_2018.head())\n",
        "print(df_2019.head())"
      ],
      "execution_count": 8,
      "outputs": [
        {
          "output_type": "stream",
          "text": [
            "         col1  col2  col3  col4\n",
            "0  01/01/2017    42    58    16\n",
            "1  02/01/2017    48    66    18\n",
            "2  03/01/2017    30    84    54\n",
            "3  04/01/2017    34    89    55\n",
            "4  05/01/2017    63    72     9\n",
            "          col1  col2  col3  col4\n",
            "12  01/01/2018    17    89    72\n",
            "13  02/01/2018     1    40    39\n",
            "14  03/01/2018    87    60   -27\n",
            "15  04/01/2018    45    69    24\n",
            "16  05/01/2018    34     7   -27\n",
            "          col1  col2  col3  col4\n",
            "24  01/01/2019    93    60   -33\n",
            "25  02/01/2019    58    65     7\n",
            "26  03/01/2019    89    71   -18\n",
            "27  04/01/2019    65    87    22\n",
            "28  05/01/2019    42    70    28\n"
          ],
          "name": "stdout"
        }
      ]
    },
    {
      "cell_type": "markdown",
      "metadata": {
        "id": "C6e42uIE6y1o",
        "colab_type": "text"
      },
      "source": [
        "And now for something completely different, there shall be more Pandas and less Python!"
      ]
    },
    {
      "cell_type": "code",
      "metadata": {
        "id": "cirtXM9zsb3P",
        "colab_type": "code",
        "colab": {}
      },
      "source": [
        "# https://pandas.pydata.org/pandas-docs/stable/user_guide/timeseries.html\n",
        "#dates_range = pd.date_range('2017-01-01', freq='MS', periods=10)\n",
        "# https://pandas.pydata.org/pandas-docs/stable/reference/api/pandas.tseries.offsets.DateOffset.html\n",
        "#dates_range_list = [dates_range + pd.tseries.offsets.DateOffset(years=delta) for delta in range(3)]\n",
        "# https://stackoverflow.com/questions/55695924/how-to-concatenate-datetimeindex-objects-in-pandas\n",
        "#dates_index = dates_range_list[0].union_many(dates_range_list[1:])"
      ],
      "execution_count": 9,
      "outputs": []
    },
    {
      "cell_type": "code",
      "metadata": {
        "id": "-lh83UV12rLw",
        "colab_type": "code",
        "colab": {
          "base_uri": "https://localhost:8080/",
          "height": 206
        },
        "outputId": "a540959d-79fe-4b53-9d95-b3a504d0d073"
      },
      "source": [
        "# Create the date index for 36 months\n",
        "dates_index = pd.date_range(\"2017-01-01\", freq=\"MS\", periods=36)\n",
        "\n",
        "# Populate the dataframe\n",
        "df = pd.DataFrame(\n",
        "    map(lambda arr: [arr[0], arr[1], arr[1] - arr[0]], ((np.random.randint(0, 100), np.random.randint(0, 100)) for _ in range(len(dates_index)))),\n",
        "    index=dates_index,\n",
        "    columns=[\"col2\", \"col3\", \"col3-col2\"]\n",
        ")\n",
        "\n",
        "df.head()"
      ],
      "execution_count": 10,
      "outputs": [
        {
          "output_type": "execute_result",
          "data": {
            "text/html": [
              "<div>\n",
              "<style scoped>\n",
              "    .dataframe tbody tr th:only-of-type {\n",
              "        vertical-align: middle;\n",
              "    }\n",
              "\n",
              "    .dataframe tbody tr th {\n",
              "        vertical-align: top;\n",
              "    }\n",
              "\n",
              "    .dataframe thead th {\n",
              "        text-align: right;\n",
              "    }\n",
              "</style>\n",
              "<table border=\"1\" class=\"dataframe\">\n",
              "  <thead>\n",
              "    <tr style=\"text-align: right;\">\n",
              "      <th></th>\n",
              "      <th>col2</th>\n",
              "      <th>col3</th>\n",
              "      <th>col3-col2</th>\n",
              "    </tr>\n",
              "  </thead>\n",
              "  <tbody>\n",
              "    <tr>\n",
              "      <th>2017-01-01</th>\n",
              "      <td>45</td>\n",
              "      <td>14</td>\n",
              "      <td>-31</td>\n",
              "    </tr>\n",
              "    <tr>\n",
              "      <th>2017-02-01</th>\n",
              "      <td>13</td>\n",
              "      <td>66</td>\n",
              "      <td>53</td>\n",
              "    </tr>\n",
              "    <tr>\n",
              "      <th>2017-03-01</th>\n",
              "      <td>95</td>\n",
              "      <td>35</td>\n",
              "      <td>-60</td>\n",
              "    </tr>\n",
              "    <tr>\n",
              "      <th>2017-04-01</th>\n",
              "      <td>40</td>\n",
              "      <td>16</td>\n",
              "      <td>-24</td>\n",
              "    </tr>\n",
              "    <tr>\n",
              "      <th>2017-05-01</th>\n",
              "      <td>34</td>\n",
              "      <td>22</td>\n",
              "      <td>-12</td>\n",
              "    </tr>\n",
              "  </tbody>\n",
              "</table>\n",
              "</div>"
            ],
            "text/plain": [
              "            col2  col3  col3-col2\n",
              "2017-01-01    45    14        -31\n",
              "2017-02-01    13    66         53\n",
              "2017-03-01    95    35        -60\n",
              "2017-04-01    40    16        -24\n",
              "2017-05-01    34    22        -12"
            ]
          },
          "metadata": {
            "tags": []
          },
          "execution_count": 10
        }
      ]
    },
    {
      "cell_type": "code",
      "metadata": {
        "id": "y0DCVi7d5SVJ",
        "colab_type": "code",
        "colab": {
          "base_uri": "https://localhost:8080/",
          "height": 260
        },
        "outputId": "2bb13b85-d039-4e85-c77e-a6882ddf6457"
      },
      "source": [
        "# A dataframe for each year\n",
        "df_2017 = df[df.index.year==2017]\n",
        "df_2018 = df[df.index.year==2018]\n",
        "df_2019 = df[df.index.year==2019]\n",
        "\n",
        "print(df_2018)"
      ],
      "execution_count": 11,
      "outputs": [
        {
          "output_type": "stream",
          "text": [
            "            col2  col3  col3-col2\n",
            "2018-01-01    16    24          8\n",
            "2018-02-01    36    82         46\n",
            "2018-03-01    81    11        -70\n",
            "2018-04-01    78    54        -24\n",
            "2018-05-01    38    75         37\n",
            "2018-06-01    78    19        -59\n",
            "2018-07-01    46    39         -7\n",
            "2018-08-01    68    25        -43\n",
            "2018-09-01    92    27        -65\n",
            "2018-10-01     1    33         32\n",
            "2018-11-01    32     3        -29\n",
            "2018-12-01    63    25        -38\n"
          ],
          "name": "stdout"
        }
      ]
    },
    {
      "cell_type": "markdown",
      "metadata": {
        "id": "1N5DK7BuffK7",
        "colab_type": "text"
      },
      "source": [
        "## 1.3 Workflow\n",
        "\n",
        "Create a neural network that can convert Celsius to Fahrenheit and examine the weights.\n",
        "*        Using TensorFlow and Keras build a single layered network with a single input and a single output and a single neuron.\n",
        "*        Using NumPy generate ~20 input/output values to test\n",
        "*        Train the neural network on your data.\n",
        "*        Test the neural network to see if it is working.\n",
        "*        Examine the weights to see if they match F=C∗1.8+32F = C * 1.8 + 32F=C∗1.8+32.\n",
        "\n"
      ]
    },
    {
      "cell_type": "code",
      "metadata": {
        "id": "Yhnkk75zaf06",
        "colab_type": "code",
        "colab": {}
      },
      "source": [
        "# Seed the RNG\n",
        "RNG_SEED_VALUE = 21\n",
        "np.random.seed(RNG_SEED_VALUE)\n",
        "tf.random.set_seed(RNG_SEED_VALUE)\n",
        "\n",
        "def celsius_to_fahrenheit(t):\n",
        "  return (t * 1.8) + 32\n",
        "\n",
        "# Generate the X and Y values for our training data\n",
        "celsius_X = np.array(np.random.randint(-40, 100, 20), dtype=float)\n",
        "\n",
        "fahrenheit_Y = np.array([celsius_to_fahrenheit(t) for t in celsius_X], dtype=float)"
      ],
      "execution_count": 12,
      "outputs": []
    },
    {
      "cell_type": "code",
      "metadata": {
        "id": "Lcg-UKzudRtm",
        "colab_type": "code",
        "colab": {}
      },
      "source": [
        "# Create the model\n",
        "model = tf.keras.models.Sequential()\n",
        "\n",
        "# A single layer with a single input\n",
        "model.add(tf.keras.layers.Dense(1, input_shape=[1]))\n",
        "\n",
        "# It's a linear regression problem \n",
        "model.compile(optimizer=tf.keras.optimizers.Adam(0.1),\n",
        "              loss=tf.keras.losses.mean_squared_error)\n",
        "\n",
        "history = model.fit(celsius_X, fahrenheit_Y, epochs=1500, verbose=False)\n"
      ],
      "execution_count": 13,
      "outputs": []
    },
    {
      "cell_type": "code",
      "metadata": {
        "id": "Ujhp3tG_bzOf",
        "colab_type": "code",
        "colab": {
          "base_uri": "https://localhost:8080/",
          "height": 265
        },
        "outputId": "970a75a0-e763-4d48-cdfe-74b8fda84ce8"
      },
      "source": [
        "import matplotlib.pyplot as plt\n",
        "%matplotlib inline\n",
        "plt.plot(history.history[\"loss\"])\n",
        "plt.show()"
      ],
      "execution_count": 14,
      "outputs": [
        {
          "output_type": "display_data",
          "data": {
            "image/png": "[encoded data removed]",
            "text/plain": [
              "<Figure size 432x288 with 1 Axes>"
            ]
          },
          "metadata": {
            "tags": [],
            "needs_background": "light"
          }
        }
      ]
    },
    {
      "cell_type": "code",
      "metadata": {
        "id": "nvjqoeHuehiq",
        "colab_type": "code",
        "colab": {
          "base_uri": "https://localhost:8080/",
          "height": 54
        },
        "outputId": "df221d18-5c8b-46e4-caab-124480c783ff"
      },
      "source": [
        "# Use the model to make a couple of predictions\n",
        "# 0C = 32F\n",
        "# 100C = 212F\n",
        "model.predict([0, 100])"
      ],
      "execution_count": 15,
      "outputs": [
        {
          "output_type": "execute_result",
          "data": {
            "text/plain": [
              "array([[ 31.313238],\n",
              "       [212.28024 ]], dtype=float32)"
            ]
          },
          "metadata": {
            "tags": []
          },
          "execution_count": 15
        }
      ]
    },
    {
      "cell_type": "code",
      "metadata": {
        "id": "2kMdEXQBdxV3",
        "colab_type": "code",
        "colab": {
          "base_uri": "https://localhost:8080/",
          "height": 36
        },
        "outputId": "2d58b885-1ff2-4bfb-f5cb-cd258f47752f"
      },
      "source": [
        "model.get_layer(index=0).get_weights()"
      ],
      "execution_count": 16,
      "outputs": [
        {
          "output_type": "execute_result",
          "data": {
            "text/plain": [
              "[array([[1.8096701]], dtype=float32), array([31.313238], dtype=float32)]"
            ]
          },
          "metadata": {
            "tags": []
          },
          "execution_count": 16
        }
      ]
    },
    {
      "cell_type": "markdown",
      "metadata": {
        "id": "ztJXc-djlQ9z",
        "colab_type": "text"
      },
      "source": [
        "The weights are close to the constants in the formula (1.8, 32)."
      ]
    }
  ]
}